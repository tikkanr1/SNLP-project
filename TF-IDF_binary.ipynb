{
 "cells": [
  {
   "cell_type": "code",
   "execution_count": 4,
   "metadata": {},
   "outputs": [
    {
     "name": "stderr",
     "output_type": "stream",
     "text": [
      "[nltk_data] Downloading package stopwords to\n",
      "[nltk_data]     /home/riku/snap/jupyter/6/nltk_data...\n",
      "[nltk_data]   Package stopwords is already up-to-date!\n",
      "[nltk_data] Downloading package omw-1.4 to\n",
      "[nltk_data]     /home/riku/snap/jupyter/6/nltk_data...\n",
      "[nltk_data]   Package omw-1.4 is already up-to-date!\n"
     ]
    },
    {
     "data": {
      "text/plain": [
       "True"
      ]
     },
     "execution_count": 4,
     "metadata": {},
     "output_type": "execute_result"
    }
   ],
   "source": [
    "#import libraries\n",
    "import pandas as pd\n",
    "import numpy as np\n",
    "import time\n",
    "import collections\n",
    "import matplotlib.pyplot as plt\n",
    "import seaborn as sns\n",
    "import sys\n",
    "import nltk\n",
    "import ssl\n",
    "import re\n",
    "import gc\n",
    "import sklearn\n",
    "from sklearn import feature_selection, feature_extraction, naive_bayes, pipeline, metrics\n",
    "\n",
    "#SSL error fix\n",
    "try:\n",
    "    _create_unverified_https_context = ssl._create_unverified_context\n",
    "except AttributeError:\n",
    "    pass\n",
    "else:\n",
    "    ssl._create_default_https_context = _create_unverified_https_context\n",
    "\n",
    "#download corpuses\n",
    "nltk.download('stopwords')\n",
    "nltk.download('omw-1.4')\n",
    "\n",
    "#command to install pip packages in jupyter\n",
    "#!{sys.executable} -m pip install [package]\n"
   ]
  },
  {
   "cell_type": "code",
   "execution_count": 2,
   "metadata": {},
   "outputs": [
    {
     "name": "stdout",
     "output_type": "stream",
     "text": [
      "84.95575518\n"
     ]
    }
   ],
   "source": [
    "#load data using only 'subreddit' and 'body' features\n",
    "start = time.process_time()\n",
    "cols = ['subreddit', 'body ']\n",
    "df = pd.read_csv('politics25.tsv', nrows=20000000, sep='\\t', usecols=cols)\n",
    "df = df.dropna()\n",
    "end = time.process_time()\n",
    "print(end-start)"
   ]
  },
  {
   "cell_type": "code",
   "execution_count": 5,
   "metadata": {},
   "outputs": [
    {
     "data": {
      "text/plain": [
       "51"
      ]
     },
     "execution_count": 5,
     "metadata": {},
     "output_type": "execute_result"
    }
   ],
   "source": [
    "#free memory\n",
    "gc.collect()"
   ]
  },
  {
   "cell_type": "code",
   "execution_count": 6,
   "metadata": {},
   "outputs": [],
   "source": [
    "#preprocessing\n",
    "df = df.rename(columns={'body ':'body'})\n",
    "\n",
    "#drop nontrivial subreddits\n",
    "far_left = ['chapotraphouse', 'anarchism', 'completeanarchy']\n",
    "drops = ['antiwork', 'keep_track', 'jordanpeterson','political_revolution',\n",
    "         'esist', 'politics', 'politicalhumor', 'anarcho_capitalism', 'cringeanarchy',\n",
    "         'selfawarewolves', 'the_mueller' , 'onguardforthee']\n",
    "drops = far_left + drops\n",
    "df = df[~df.subreddit.isin(drops)]\n",
    "\n",
    "#find large (>100 0000 posts) subreddits \n",
    "large_subreddits = df['subreddit'].value_counts()[df['subreddit']\n",
    "                    .value_counts()>100000].index.tolist()\n",
    "\n",
    "#drop large subreddits\n",
    "df_small = df[~df.subreddit.isin(large_subreddits)]\n",
    "\n",
    "#sample large subreddits to 100 000 posts\n",
    "for sub in large_subreddits:\n",
    "    sample = df[df.subreddit == sub].sample(100000)\n",
    "    df_small = df_small.append(sample)\n",
    "    \n",
    "#rename column\n",
    "df_small = df.rename(columns={'subreddit': 'spectrum'})\n",
    "    \n",
    "#rename subreddits based on political spectrum\n",
    "left = ['liberal', 'wayofthebern', 'ourpresident', 'libertarian',\n",
    "        'sandersforpresident', 'socialism', 'latestagecapitalism',\n",
    "        'fullcommunism', 'communism', 'neoliberal', 'goldandblack',\n",
    "        'progressive', 'latestagesocialism']\n",
    "right = ['conservative', 'republican', 'the_donald', 'thenewright']\n",
    "\n",
    "df_small['spectrum'] = df_small['spectrum'].replace(left, 'left')\n",
    "df_small['spectrum'] = df_small['spectrum'].replace(right, 'right')\n",
    "\n",
    "#sample spectrums\n",
    "df_spectrum = pd.DataFrame()\n",
    "for spec in ['left', 'right']:\n",
    "    sample = df_small[df_small.spectrum == spec].sample(100000)\n",
    "    df_spectrum = df_spectrum.append(sample)\n"
   ]
  },
  {
   "cell_type": "code",
   "execution_count": 7,
   "metadata": {},
   "outputs": [
    {
     "data": {
      "image/png": "[encoded data removed]",
      "text/plain": [
       "<Figure size 432x288 with 1 Axes>"
      ]
     },
     "metadata": {
      "needs_background": "light"
     },
     "output_type": "display_data"
    }
   ],
   "source": [
    "#show distribution of data\n",
    "fig, ax = plt.subplots()\n",
    "fig.suptitle(\"y\", fontsize=12)\n",
    "df_spectrum[\"spectrum\"].reset_index().groupby(\"spectrum\").count().sort_values(by= \n",
    "       \"index\").plot(kind=\"barh\", legend=False, \n",
    "        ax=ax).grid(axis='x')\n",
    "plt.show()"
   ]
  },
  {
   "cell_type": "markdown",
   "metadata": {},
   "source": [
    "<font size=\"7\">TF-IDF</font>"
   ]
  },
  {
   "cell_type": "code",
   "execution_count": 8,
   "metadata": {},
   "outputs": [],
   "source": [
    "#preprocessing function\n",
    "def preprocess(text, stemm=False, lemm=True, stopwords=None):\n",
    "    \n",
    "    #clean\n",
    "    text = re.sub(r'[^\\w\\s]', '', str(text).lower().strip())\n",
    "            \n",
    "    #tokenize and remove stopwords\n",
    "    lst_text = text.split()\n",
    "    if stopwords is not None:\n",
    "        lst_text = [word for word in lst_text if word not in \n",
    "                    stopwords]\n",
    "                \n",
    "    #if stemming\n",
    "    if stemm == True:\n",
    "        ps = nltk.stem.porter.PorterStemmer()\n",
    "        lst_text = [ps.stem(word) for word in lst_text]\n",
    "                \n",
    "    # if lemmatise\n",
    "    if lemm == True:\n",
    "        lem = nltk.stem.wordnet.WordNetLemmatizer()\n",
    "        lst_text = [lem.lemmatize(word) for word in lst_text]\n",
    "            \n",
    "    # return string\n",
    "    text = \" \".join(lst_text)\n",
    "    return text"
   ]
  },
  {
   "cell_type": "code",
   "execution_count": 9,
   "metadata": {},
   "outputs": [
    {
     "name": "stdout",
     "output_type": "stream",
     "text": [
      "48.300542641999996\n"
     ]
    }
   ],
   "source": [
    "#define stopwords\n",
    "stopwords = nltk.corpus.stopwords.words(\"english\")\n",
    "\n",
    "#process text\n",
    "start = time.process_time()\n",
    "df_spectrum['processed'] = df_spectrum['body'].apply(lambda x: \n",
    "                preprocess(x, stemm=False, lemm=True,\n",
    "                stopwords=stopwords))\n",
    "end = time.process_time()\n",
    "print(end-start)"
   ]
  },
  {
   "cell_type": "code",
   "execution_count": 10,
   "metadata": {},
   "outputs": [
    {
     "data": {
      "text/html": [
       "<div>\n",
       "<style scoped>\n",
       "    .dataframe tbody tr th:only-of-type {\n",
       "        vertical-align: middle;\n",
       "    }\n",
       "\n",
       "    .dataframe tbody tr th {\n",
       "        vertical-align: top;\n",
       "    }\n",
       "\n",
       "    .dataframe thead th {\n",
       "        text-align: right;\n",
       "    }\n",
       "</style>\n",
       "<table border=\"1\" class=\"dataframe\">\n",
       "  <thead>\n",
       "    <tr style=\"text-align: right;\">\n",
       "      <th></th>\n",
       "      <th>spectrum</th>\n",
       "      <th>body</th>\n",
       "      <th>processed</th>\n",
       "    </tr>\n",
       "  </thead>\n",
       "  <tbody>\n",
       "    <tr>\n",
       "      <th>3733368</th>\n",
       "      <td>left</td>\n",
       "      <td>https://youtu.be/ZIzvkQy1ubM?t=2m21s  Timestam...</td>\n",
       "      <td>httpsyoutubezizvkqy1ubmt2m21s timestamp care</td>\n",
       "    </tr>\n",
       "    <tr>\n",
       "      <th>2543486</th>\n",
       "      <td>left</td>\n",
       "      <td>Stop what?</td>\n",
       "      <td>stop</td>\n",
       "    </tr>\n",
       "    <tr>\n",
       "      <th>13986589</th>\n",
       "      <td>left</td>\n",
       "      <td>Income tax and literally every other tax.   I ...</td>\n",
       "      <td>income tax literally every tax earn 500 work l...</td>\n",
       "    </tr>\n",
       "    <tr>\n",
       "      <th>17974238</th>\n",
       "      <td>left</td>\n",
       "      <td>But you are. The vast majority of tax dollars ...</td>\n",
       "      <td>vast majority tax dollar go welfare thats mone...</td>\n",
       "    </tr>\n",
       "    <tr>\n",
       "      <th>2024598</th>\n",
       "      <td>left</td>\n",
       "      <td>vote bernie first</td>\n",
       "      <td>vote bernie first</td>\n",
       "    </tr>\n",
       "  </tbody>\n",
       "</table>\n",
       "</div>"
      ],
      "text/plain": [
       "         spectrum                                               body  \\\n",
       "3733368      left  https://youtu.be/ZIzvkQy1ubM?t=2m21s  Timestam...   \n",
       "2543486      left                                        Stop what?    \n",
       "13986589     left  Income tax and literally every other tax.   I ...   \n",
       "17974238     left  But you are. The vast majority of tax dollars ...   \n",
       "2024598      left                                 vote bernie first    \n",
       "\n",
       "                                                  processed  \n",
       "3733368        httpsyoutubezizvkqy1ubmt2m21s timestamp care  \n",
       "2543486                                                stop  \n",
       "13986589  income tax literally every tax earn 500 work l...  \n",
       "17974238  vast majority tax dollar go welfare thats mone...  \n",
       "2024598                                   vote bernie first  "
      ]
     },
     "execution_count": 10,
     "metadata": {},
     "output_type": "execute_result"
    }
   ],
   "source": [
    "df_spectrum.head()"
   ]
  },
  {
   "cell_type": "code",
   "execution_count": 11,
   "metadata": {},
   "outputs": [],
   "source": [
    "#save processed data to speed up future computations\n",
    "df_spectrum.to_csv('spectrum.csv')\n",
    "\n",
    "#load preprocessed data\n",
    "#df_spectrum = pd.read_csv('spectrum.csv')\n",
    "#df_spectrum = df_spectrum.dropna()"
   ]
  },
  {
   "cell_type": "code",
   "execution_count": 12,
   "metadata": {},
   "outputs": [
    {
     "name": "stdout",
     "output_type": "stream",
     "text": [
      "20.190066400999996\n"
     ]
    }
   ],
   "source": [
    "#create TF-IDF\n",
    "start = time.process_time()\n",
    "\n",
    "#split data \n",
    "train, test = sklearn.model_selection.train_test_split(df_spectrum, test_size=0.3)\n",
    "\n",
    "#target\n",
    "y_train = train['spectrum'].values\n",
    "y_test = test['spectrum'].values\n",
    "\n",
    "#Tf-idf\n",
    "vectorizer = sklearn.feature_extraction.text.TfidfVectorizer(max_features=10000, ngram_range=(1,2))\n",
    "\n",
    "#feature matrix\n",
    "vectorizer.fit(train['processed'])\n",
    "X_train = vectorizer.transform(train['processed'])\n",
    "vocab = vectorizer.vocabulary_\n",
    "\n",
    "end = time.process_time()\n",
    "print(end-start)"
   ]
  },
  {
   "cell_type": "code",
   "execution_count": 13,
   "metadata": {},
   "outputs": [
    {
     "name": "stdout",
     "output_type": "stream",
     "text": [
      "5.8679814079999915\n"
     ]
    }
   ],
   "source": [
    "#classifier\n",
    "start = time.process_time()\n",
    "classifier = naive_bayes.MultinomialNB()\n",
    "#classifier = KMeans(n_clusters=2).fit(X_train)\n",
    "\n",
    "#pipeline\n",
    "model = pipeline.Pipeline([(\"vectorizer\", vectorizer),  \n",
    "                           (\"classifier\", classifier)])\n",
    "#train classifier\n",
    "model[\"classifier\"].fit(X_train, y_train)\n",
    "\n",
    "#test\n",
    "X_test = test[\"processed\"].values\n",
    "predicted = model.predict(X_test)\n",
    "predicted_prob = model.predict_proba(X_test)\n",
    "\n",
    "end = time.process_time()\n",
    "print(end-start)"
   ]
  },
  {
   "cell_type": "code",
   "execution_count": 14,
   "metadata": {},
   "outputs": [
    {
     "name": "stdout",
     "output_type": "stream",
     "text": [
      "Accuracy: 0.7\n",
      "Auc: 0.79\n",
      "Detail:\n",
      "              precision    recall  f1-score   support\n",
      "\n",
      "        left       0.70      0.71      0.70     29996\n",
      "       right       0.70      0.70      0.70     30004\n",
      "\n",
      "    accuracy                           0.70     60000\n",
      "   macro avg       0.70      0.70      0.70     60000\n",
      "weighted avg       0.70      0.70      0.70     60000\n",
      "\n"
     ]
    },
    {
     "data": {
      "image/png": "[encoded data removed]",
      "text/plain": [
       "<Figure size 432x288 with 2 Axes>"
      ]
     },
     "metadata": {
      "needs_background": "light"
     },
     "output_type": "display_data"
    }
   ],
   "source": [
    "#print results\n",
    "\n",
    "classes = np.unique(y_test)\n",
    "y_test_array = pd.get_dummies(y_test, drop_first=False).values\n",
    "    \n",
    "## Accuracy, Precision, Recall\n",
    "accuracy = metrics.accuracy_score(y_test, predicted)\n",
    "auc = metrics.roc_auc_score(y_test, predicted_prob[:,1])\n",
    "                            #multi_class=\"ovr\")\n",
    "print(\"Accuracy:\",  round(accuracy,2))\n",
    "print(\"Auc:\", round(auc,2))\n",
    "print(\"Detail:\")\n",
    "print(metrics.classification_report(y_test, predicted))\n",
    "\n",
    "fig, ax = plt.subplots(nrows=1, ncols=2)\n",
    "## Plot roc\n",
    "for i in range(len(classes)):\n",
    "    fpr, tpr, thresholds = metrics.roc_curve(y_test_array[:,i],  \n",
    "                           predicted_prob[:,i])\n",
    "    ax[0].plot(fpr, tpr, lw=3, \n",
    "              label='{0} (area={1:0.2f})'.format(classes[i], \n",
    "                              metrics.auc(fpr, tpr))\n",
    "               )\n",
    "ax[0].plot([0,1], [0,1], color='navy', lw=3, linestyle='--')\n",
    "ax[0].set(xlim=[-0.05,1.0], ylim=[0.0,1.05], \n",
    "          xlabel='False Positive Rate', \n",
    "          ylabel=\"True Positive Rate (Recall)\", \n",
    "          title=\"Receiver operating characteristic\")\n",
    "ax[0].legend(loc=\"lower right\")\n",
    "ax[0].grid(True)\n",
    "    \n",
    "## Plot precision-recall curve\n",
    "for i in range(len(classes)):\n",
    "    precision, recall, thresholds = metrics.precision_recall_curve(\n",
    "                 y_test_array[:,i], predicted_prob[:,i])\n",
    "    ax[1].plot(recall, precision, lw=3, \n",
    "               label='{0} (area={1:0.2f})'.format(classes[i], \n",
    "                                  metrics.auc(recall, precision))\n",
    "              )\n",
    "ax[1].set(xlim=[0.0,1.05], ylim=[0.0,1.05], xlabel='Recall', \n",
    "          ylabel=\"Precision\", title=\"Precision-Recall curve\")\n",
    "ax[1].legend(loc=\"best\")\n",
    "ax[1].grid(True)\n",
    "plt.show()"
   ]
  },
  {
   "cell_type": "code",
   "execution_count": null,
   "metadata": {},
   "outputs": [],
   "source": []
  }
 ],
 "metadata": {
  "kernelspec": {
   "display_name": "Python 3",
   "language": "python",
   "name": "python3"
  },
  "language_info": {
   "codemirror_mode": {
    "name": "ipython",
    "version": 3
   },
   "file_extension": ".py",
   "mimetype": "text/x-python",
   "name": "python",
   "nbconvert_exporter": "python",
   "pygments_lexer": "ipython3",
   "version": "3.7.3"
  }
 },
 "nbformat": 4,
 "nbformat_minor": 2
}
