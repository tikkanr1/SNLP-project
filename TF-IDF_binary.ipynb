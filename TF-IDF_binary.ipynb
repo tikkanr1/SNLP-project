{
 "cells": [
  {
   "cell_type": "code",
   "execution_count": 1,
   "metadata": {},
   "outputs": [
    {
     "name": "stderr",
     "output_type": "stream",
     "text": [
      "/home/riku/snap/jupyter/common/lib/python3.7/site-packages/joblib/_multiprocessing_helpers.py:45: UserWarning: [Errno 13] Permission denied.  joblib will operate in serial mode\n",
      "  warnings.warn('%s.  joblib will operate in serial mode' % (e,))\n",
      "[nltk_data] Downloading package stopwords to\n",
      "[nltk_data]     /home/riku/snap/jupyter/6/nltk_data...\n",
      "[nltk_data]   Package stopwords is already up-to-date!\n",
      "[nltk_data] Downloading package omw-1.4 to\n",
      "[nltk_data]     /home/riku/snap/jupyter/6/nltk_data...\n",
      "[nltk_data]   Package omw-1.4 is already up-to-date!\n"
     ]
    },
    {
     "data": {
      "text/plain": [
       "True"
      ]
     },
     "execution_count": 1,
     "metadata": {},
     "output_type": "execute_result"
    }
   ],
   "source": [
    "#import libraries\n",
    "import pandas as pd\n",
    "import numpy as np\n",
    "import time\n",
    "import collections\n",
    "import matplotlib.pyplot as plt\n",
    "import seaborn as sns\n",
    "import sys\n",
    "import nltk\n",
    "import ssl\n",
    "import re\n",
    "import sklearn\n",
    "from sklearn import feature_selection, feature_extraction, naive_bayes, pipeline, metrics\n",
    "\n",
    "#SSL error fix\n",
    "try:\n",
    "    _create_unverified_https_context = ssl._create_unverified_context\n",
    "except AttributeError:\n",
    "    pass\n",
    "else:\n",
    "    ssl._create_default_https_context = _create_unverified_https_context\n",
    "\n",
    "#download corpuses\n",
    "nltk.download('stopwords')\n",
    "nltk.download('omw-1.4')\n",
    "\n",
    "#command to install pip packages in jupyter\n",
    "#!{sys.executable} -m pip install [package]\n"
   ]
  },
  {
   "cell_type": "code",
   "execution_count": 2,
   "metadata": {},
   "outputs": [
    {
     "name": "stdout",
     "output_type": "stream",
     "text": [
      "120.70576120900002\n"
     ]
    }
   ],
   "source": [
    "#load data using only 'subreddit' and 'body' features\n",
    "start = time.process_time()\n",
    "cols = ['subreddit', 'body ']\n",
    "df = pd.read_csv('politics25.tsv', nrows=20000000, sep='\\t', usecols=cols)\n",
    "df = df.dropna()\n",
    "end = time.process_time()\n",
    "print(end-start)"
   ]
  },
  {
   "cell_type": "code",
   "execution_count": 16,
   "metadata": {},
   "outputs": [
    {
     "data": {
      "text/plain": [
       "[1, 2, 3, 3, 4, 5]"
      ]
     },
     "execution_count": 16,
     "metadata": {},
     "output_type": "execute_result"
    }
   ],
   "source": [
    "a = [1,2,3]\n",
    "b = [3,4,5]\n",
    "a + b"
   ]
  },
  {
   "cell_type": "code",
   "execution_count": 3,
   "metadata": {},
   "outputs": [],
   "source": [
    "#preprocessing\n",
    "df = df.rename(columns={'body ':'body'})\n",
    "\n",
    "#drop nontrivial subreddits\n",
    "far_left = ['chapotraphouse', 'anarchism', 'completeanarchy']\n",
    "drops = ['antiwork', 'keep_track', 'jordanpeterson','political_revolution',\n",
    "         'esist', 'politics', 'politicalhumor', 'anarcho_capitalism', 'cringeanarchy',\n",
    "         'selfawarewolves', 'the_mueller' , 'onguardforthee']\n",
    "drops = far_left + drops\n",
    "df = df[~df.subreddit.isin(drops)]\n",
    "\n",
    "#find large (>100 0000 posts) subreddits \n",
    "large_subreddits = df['subreddit'].value_counts()[df['subreddit']\n",
    "                    .value_counts()>100000].index.tolist()\n",
    "\n",
    "#drop large subreddits\n",
    "df_small = df[~df.subreddit.isin(large_subreddits)]\n",
    "\n",
    "#sample large subreddits to 100 000 posts\n",
    "for sub in large_subreddits:\n",
    "    sample = df[df.subreddit == sub].sample(100000)\n",
    "    df_small = df_small.append(sample)\n",
    "    \n",
    "#rename column\n",
    "df_small = df.rename(columns={'subreddit': 'spectrum'})\n",
    "    \n",
    "#rename subreddits based on political spectrum\n",
    "left = ['liberal', 'wayofthebern', 'ourpresident', 'libertarian',\n",
    "        'sandersforpresident', 'socialism', 'latestagecapitalism',\n",
    "        'fullcommunism', 'communism', 'neoliberal', 'goldandblack',\n",
    "        'progressive', 'latestagesocialism']\n",
    "right = ['conservative', 'republican', 'the_donald', 'thenewright']\n",
    "\n",
    "df_small['spectrum'] = df_small['spectrum'].replace(left, 'left')\n",
    "df_small['spectrum'] = df_small['spectrum'].replace(right, 'right')\n",
    "\n",
    "#sample spectrums\n",
    "df_spectrum = pd.DataFrame()\n",
    "for spec in ['left', 'right']:\n",
    "    sample = df_small[df_small.spectrum == spec].sample(100000)\n",
    "    df_spectrum = df_spectrum.append(sample)\n",
    "\n",
    "#empty df to free memory\n",
    "df = pd.DataFrame()"
   ]
  },
  {
   "cell_type": "code",
   "execution_count": 4,
   "metadata": {},
   "outputs": [
    {
     "data": {
      "image/png": "[encoded data removed]",
      "text/plain": [
       "<Figure size 432x288 with 1 Axes>"
      ]
     },
     "metadata": {
      "needs_background": "light"
     },
     "output_type": "display_data"
    }
   ],
   "source": [
    "#show distribution of data\n",
    "fig, ax = plt.subplots()\n",
    "fig.suptitle(\"y\", fontsize=12)\n",
    "df_spectrum[\"spectrum\"].reset_index().groupby(\"spectrum\").count().sort_values(by= \n",
    "       \"index\").plot(kind=\"barh\", legend=False, \n",
    "        ax=ax).grid(axis='x')\n",
    "plt.show()"
   ]
  },
  {
   "cell_type": "markdown",
   "metadata": {},
   "source": [
    "<font size=\"7\">TF-IDF</font>"
   ]
  },
  {
   "cell_type": "code",
   "execution_count": 5,
   "metadata": {},
   "outputs": [],
   "source": [
    "#preprocessing function\n",
    "def preprocess(text, stemm=False, lemm=True, stopwords=None):\n",
    "    \n",
    "    #clean\n",
    "    text = re.sub(r'[^\\w\\s]', '', str(text).lower().strip())\n",
    "            \n",
    "    #tokenize and remove stopwords\n",
    "    lst_text = text.split()\n",
    "    if stopwords is not None:\n",
    "        lst_text = [word for word in lst_text if word not in \n",
    "                    stopwords]\n",
    "                \n",
    "    #if stemming\n",
    "    if stemm == True:\n",
    "        ps = nltk.stem.porter.PorterStemmer()\n",
    "        lst_text = [ps.stem(word) for word in lst_text]\n",
    "                \n",
    "    # if lemmatise\n",
    "    if lemm == True:\n",
    "        lem = nltk.stem.wordnet.WordNetLemmatizer()\n",
    "        lst_text = [lem.lemmatize(word) for word in lst_text]\n",
    "            \n",
    "    # return string\n",
    "    text = \" \".join(lst_text)\n",
    "    return text"
   ]
  },
  {
   "cell_type": "code",
   "execution_count": 6,
   "metadata": {},
   "outputs": [
    {
     "name": "stdout",
     "output_type": "stream",
     "text": [
      "43.53325932300001\n"
     ]
    }
   ],
   "source": [
    "#define stopwords\n",
    "stopwords = nltk.corpus.stopwords.words(\"english\")\n",
    "\n",
    "#process text\n",
    "start = time.process_time()\n",
    "df_spectrum['body'] = df_spectrum['body'].apply(lambda x: \n",
    "                preprocess(x, stemm=False, lemm=True,\n",
    "                stopwords=stopwords))\n",
    "end = time.process_time()\n",
    "print(end-start)"
   ]
  },
  {
   "cell_type": "code",
   "execution_count": 7,
   "metadata": {},
   "outputs": [],
   "source": [
    "#save processed data to speed up future computations\n",
    "df_spectrum.to_csv('spectrum.csv')\n",
    "\n",
    "#load preprocessed data\n",
    "#df_spectrum = pd.read_csv('spectrum.csv')\n",
    "#df_spectrum = df_spectrum.dropna()"
   ]
  },
  {
   "cell_type": "code",
   "execution_count": 8,
   "metadata": {},
   "outputs": [
    {
     "name": "stdout",
     "output_type": "stream",
     "text": [
      "19.144410467\n"
     ]
    }
   ],
   "source": [
    "#create TF-IDF\n",
    "start = time.process_time()\n",
    "\n",
    "#split data \n",
    "train, test = sklearn.model_selection.train_test_split(df_spectrum, test_size=0.3)\n",
    "\n",
    "#target\n",
    "y_train = train['spectrum'].values\n",
    "y_test = test['spectrum'].values\n",
    "\n",
    "#Tf-idf\n",
    "vectorizer = sklearn.feature_extraction.text.TfidfVectorizer(max_features=10000, ngram_range=(1,2))\n",
    "\n",
    "#feature matrix\n",
    "vectorizer.fit(train['body'])\n",
    "X_train = vectorizer.transform(train['body'])\n",
    "vocab = vectorizer.vocabulary_\n",
    "\n",
    "end = time.process_time()\n",
    "print(end-start)"
   ]
  },
  {
   "cell_type": "code",
   "execution_count": 11,
   "metadata": {},
   "outputs": [
    {
     "name": "stdout",
     "output_type": "stream",
     "text": [
      "5.956543463999992\n"
     ]
    }
   ],
   "source": [
    "#classifier\n",
    "start = time.process_time()\n",
    "classifier = naive_bayes.MultinomialNB()\n",
    "#classifier = KMeans(n_clusters=2).fit(X_train)\n",
    "\n",
    "#pipeline\n",
    "model = pipeline.Pipeline([(\"vectorizer\", vectorizer),  \n",
    "                           (\"classifier\", classifier)])\n",
    "#train classifier\n",
    "model[\"classifier\"].fit(X_train, y_train)\n",
    "\n",
    "#test\n",
    "X_test = test[\"body\"].values\n",
    "predicted = model.predict(X_test)\n",
    "predicted_prob = model.predict_proba(X_test)\n",
    "\n",
    "end = time.process_time()\n",
    "print(end-start)"
   ]
  },
  {
   "cell_type": "code",
   "execution_count": 15,
   "metadata": {},
   "outputs": [
    {
     "name": "stdout",
     "output_type": "stream",
     "text": [
      "Accuracy: 0.7\n",
      "Auc: 0.79\n",
      "Detail:\n",
      "              precision    recall  f1-score   support\n",
      "\n",
      "        left       0.70      0.71      0.70     29884\n",
      "       right       0.71      0.70      0.70     30116\n",
      "\n",
      "    accuracy                           0.70     60000\n",
      "   macro avg       0.70      0.70      0.70     60000\n",
      "weighted avg       0.70      0.70      0.70     60000\n",
      "\n",
      "0.12393867438894009\n"
     ]
    },
    {
     "data": {
      "image/png": "[encoded data removed]",
      "text/plain": [
       "<Figure size 432x288 with 2 Axes>"
      ]
     },
     "metadata": {
      "needs_background": "light"
     },
     "output_type": "display_data"
    }
   ],
   "source": [
    "#print results\n",
    "\n",
    "classes = np.unique(y_test)\n",
    "y_test_array = pd.get_dummies(y_test, drop_first=False).values\n",
    "    \n",
    "## Accuracy, Precision, Recall\n",
    "accuracy = metrics.accuracy_score(y_test, predicted)\n",
    "auc = metrics.roc_auc_score(y_test, predicted_prob[:,1])\n",
    "                            #multi_class=\"ovr\")\n",
    "print(\"Accuracy:\",  round(accuracy,2))\n",
    "print(\"Auc:\", round(auc,2))\n",
    "print(\"Detail:\")\n",
    "print(metrics.classification_report(y_test, predicted))\n",
    "#NMI score with geometric average as in Strehl and Ghosh\n",
    "print(metrics.normalized_mutual_info_score(y_test, predicted, average_method='geometric'))\n",
    "\n",
    "\n",
    "fig, ax = plt.subplots(nrows=1, ncols=2)\n",
    "## Plot roc\n",
    "for i in range(len(classes)):\n",
    "    fpr, tpr, thresholds = metrics.roc_curve(y_test_array[:,i],  \n",
    "                           predicted_prob[:,i])\n",
    "    ax[0].plot(fpr, tpr, lw=3, \n",
    "              label='{0} (area={1:0.2f})'.format(classes[i], \n",
    "                              metrics.auc(fpr, tpr))\n",
    "               )\n",
    "ax[0].plot([0,1], [0,1], color='navy', lw=3, linestyle='--')\n",
    "ax[0].set(xlim=[-0.05,1.0], ylim=[0.0,1.05], \n",
    "          xlabel='False Positive Rate', \n",
    "          ylabel=\"True Positive Rate (Recall)\", \n",
    "          title=\"Receiver operating characteristic\")\n",
    "ax[0].legend(loc=\"lower right\")\n",
    "ax[0].grid(True)\n",
    "    \n",
    "## Plot precision-recall curve\n",
    "for i in range(len(classes)):\n",
    "    precision, recall, thresholds = metrics.precision_recall_curve(\n",
    "                 y_test_array[:,i], predicted_prob[:,i])\n",
    "    ax[1].plot(recall, precision, lw=3, \n",
    "               label='{0} (area={1:0.2f})'.format(classes[i], \n",
    "                                  metrics.auc(recall, precision))\n",
    "              )\n",
    "ax[1].set(xlim=[0.0,1.05], ylim=[0.0,1.05], xlabel='Recall', \n",
    "          ylabel=\"Precision\", title=\"Precision-Recall curve\")\n",
    "ax[1].legend(loc=\"best\")\n",
    "ax[1].grid(True)\n",
    "plt.show()"
   ]
  },
  {
   "cell_type": "code",
   "execution_count": null,
   "metadata": {},
   "outputs": [],
   "source": []
  }
 ],
 "metadata": {
  "kernelspec": {
   "display_name": "Python 3",
   "language": "python",
   "name": "python3"
  },
  "language_info": {
   "codemirror_mode": {
    "name": "ipython",
    "version": 3
   },
   "file_extension": ".py",
   "mimetype": "text/x-python",
   "name": "python",
   "nbconvert_exporter": "python",
   "pygments_lexer": "ipython3",
   "version": "3.7.3"
  }
 },
 "nbformat": 4,
 "nbformat_minor": 2
}
